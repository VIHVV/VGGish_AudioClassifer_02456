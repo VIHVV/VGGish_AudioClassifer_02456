{
 "cells": [
  {
   "cell_type": "markdown",
   "metadata": {},
   "source": [
    "# Acoustic Scene Classification using transfer learning on VGGish pre trained model\n",
    "\n",
    "This model is related to a paper presenting an acoustic scene classification method, which uses transfer learning on a VGGish pre-trained model. Transfer learning is a method where knowledge from solving one problem is gained and stored, and can subsequently be used and applied to a related problem. The performance of this method is evaluated on the TUT Acoustic Scenes 2017 data set. A data set collected in Finland by Tampere University of technology. The data collection has received funding from the European Research Council and is part of a DCASE \\textit{(Detection and Classification of Acoustic Scenes and Events)} 2017 challenge.\n",
    "\n",
    "By Tobias Toft Christensen, Mikkel Heber Hahn Petersen, and Anders Hansen Warming. "
   ]
  },
  {
   "cell_type": "code",
   "execution_count": 1,
   "metadata": {},
   "outputs": [
    {
     "name": "stdout",
     "output_type": "stream",
     "text": [
      "None\n"
     ]
    }
   ],
   "source": [
    "from __future__ import absolute_import, division, print_function\n",
    "\n",
    "import os\n",
    "import sys\n",
    "sys.path.append(os.path.join('.', '..'))\n",
    "import utils\n",
    "import tensorflow as tf\n",
    "import numpy as np\n",
    "from tensorflow.contrib.layers import fully_connected, batch_norm, dropout\n",
    "from tensorflow.python.ops.nn import relu, softmax\n",
    "%matplotlib inline\n",
    "import matplotlib.pyplot as plt"
   ]
  },
  {
   "cell_type": "markdown",
   "metadata": {},
   "source": [
    "## Importing the training data sets and validation data sets from tfRecords"
   ]
  },
  {
   "cell_type": "code",
   "execution_count": 2,
   "metadata": {},
   "outputs": [
    {
     "name": "stdout",
     "output_type": "stream",
     "text": [
      "(4771, 128)\n",
      "4771\n",
      "tfRecord train1 uploaded!\n",
      "(4772, 128)\n",
      "4772\n",
      "tfRecord train2 uploaded!\n",
      "(4772, 128)\n",
      "4772\n",
      "tfRecord train3 uploaded!\n",
      "(4772, 128)\n",
      "4772\n",
      "tfRecord train4 uploaded!\n",
      "(4772, 128)\n",
      "4772\n",
      "tfRecord train5 uploaded!\n",
      "(4211, 128)\n",
      "4211\n",
      "tfRecord train6 uploaded!\n",
      "(4680, 128)\n",
      "4680\n",
      "tfRecord train7 uploaded!\n",
      "(4680, 128)\n",
      "4680\n",
      "tfRecord train8 uploaded!\n",
      "(4680, 128)\n",
      "4680\n",
      "tfRecord train9 uploaded!\n",
      "(4680, 128)\n",
      "4680\n",
      "tfRecord train10 uploaded!\n",
      "Train embedding shape:  (46790, 128)\n",
      "(46790,)\n",
      "(4820, 128)\n",
      "4820\n",
      "tfRecord val1 uploaded!\n",
      "(4810, 128)\n",
      "4810\n",
      "tfRecord val2 uploaded!\n",
      "Val embedding shape:  (9630, 128)\n",
      "(9630,)\n"
     ]
    }
   ],
   "source": [
    "(e1_train,l1_train) =  utils.tfRead('train1')\n",
    "print(\"tfRecord train1 uploaded!\")\n",
    "(e2_train,l2_train) =  utils.tfRead('train2')\n",
    "print(\"tfRecord train2 uploaded!\")\n",
    "(e3_train,l3_train) =  utils.tfRead('train3')\n",
    "print(\"tfRecord train3 uploaded!\")\n",
    "(e4_train,l4_train) =  utils.tfRead('train4')\n",
    "print(\"tfRecord train4 uploaded!\")\n",
    "(e5_train,l5_train) =  utils.tfRead('train5')\n",
    "print(\"tfRecord train5 uploaded!\")\n",
    "(e6_train,l6_train) =  utils.tfRead('train6')\n",
    "print(\"tfRecord train6 uploaded!\")\n",
    "(e7_train,l7_train) =  utils.tfRead('test1')\n",
    "print(\"tfRecord train7 uploaded!\")\n",
    "(e8_train,l8_train) =  utils.tfRead('test2')\n",
    "print(\"tfRecord train8 uploaded!\")\n",
    "(e9_train,l9_train) =  utils.tfRead('val1')\n",
    "print(\"tfRecord train9 uploaded!\")\n",
    "(e10_train,l10_train) =  utils.tfRead('val2')\n",
    "print(\"tfRecord train10 uploaded!\")\n",
    "embedding_train= np.concatenate((e1_train, e2_train, e3_train, e4_train, e5_train, e6_train, e7_train, e8_train, e9_train, e10_train), axis=0)\n",
    "print(\"Train embedding shape: \",embedding_train.shape)\n",
    "\n",
    "embedding_labels_train = np.concatenate((l1_train, l2_train, l3_train, l4_train, l5_train, l6_train, l7_train, l8_train, l9_train, l10_train), axis=0)\n",
    "print(embedding_labels_train.shape)\n",
    "\n",
    "(e1_val,l1_val) =  utils.tfRead('Evalval1')\n",
    "print(\"tfRecord val1 uploaded!\")\n",
    "(e2_val,l2_val) =  utils.tfRead('Evalval2')\n",
    "print(\"tfRecord val2 uploaded!\")\n",
    "\n",
    "embedding_val= np.concatenate((e1_val, e2_val), axis=0)\n",
    "print(\"Val embedding shape: \",embedding_val.shape)\n",
    "\n",
    "embedding_labels_val = np.concatenate((l1_val,l2_val), axis=0)\n",
    "print(embedding_labels_val.shape)\n"
   ]
  },
  {
   "cell_type": "markdown",
   "metadata": {},
   "source": [
    "### The development of the network was done by first attempting to solve a simple 3 class problem. To do this a function was written that sorts the 15 classes into 3 over all classes:"
   ]
  },
  {
   "cell_type": "code",
   "execution_count": 3,
   "metadata": {
    "collapsed": true
   },
   "outputs": [],
   "source": [
    "#Apply if you want to run the model for the 3 class problem: \n",
    "embedding_labels_train = utils.labelMinimizer(embedding_labels_train)\n",
    "embedding_labels_val = utils.labelMinimizer(embedding_labels_val)"
   ]
  },
  {
   "cell_type": "code",
   "execution_count": 4,
   "metadata": {
    "collapsed": true
   },
   "outputs": [],
   "source": [
    "\n",
    "#One hot encoding\n",
    "embedding_labels_train = utils.OnehotEnc(embedding_labels_train)\n",
    "embedding_labels_val = utils.OnehotEnc(embedding_labels_val)\n",
    "\n",
    "weight_initializer = tf.truncated_normal_initializer(stddev=0.1)"
   ]
  },
  {
   "cell_type": "markdown",
   "metadata": {},
   "source": [
    "### The architecture of the network can be altered here"
   ]
  },
  {
   "cell_type": "code",
   "execution_count": 5,
   "metadata": {},
   "outputs": [
    {
     "name": "stdout",
     "output_type": "stream",
     "text": [
      "number of features:  128\n",
      "number of classes:  3\n"
     ]
    }
   ],
   "source": [
    "\n",
    "num_features = embedding_train[0].shape[0]\n",
    "num_classes = embedding_labels_train[0].shape[0]\n",
    "print('number of features: ', num_features)\n",
    "print('number of classes: ', num_classes)\n",
    "\n",
    "reuse_flag = True\n",
    "\n",
    "## Define placeholders\n",
    "x_pl = tf.placeholder(tf.float32, shape=[None, num_features], name='xPlaceholder')\n",
    "y_pl = tf.placeholder(tf.float32, shape=[None, num_classes], name='yPlaceholder')\n",
    "\n",
    "\n",
    "## Define initializer for the weigths\n",
    "num_hidden1 = 128\n",
    "num_hidden2 = 128\n",
    "num_hidden2 = 128\n",
    "\n",
    "l1 =  fully_connected(x_pl, num_hidden1, activation_fn=relu)\n",
    "\n",
    "#l2 = fully_connected(l1, num_hidden2, activation_fn=relu,weights_regularizer=regularizer)\n",
    "\n",
    "#l3 = fully_connected(l2, num_hidden3, activation_fn=relu,weights_regularizer=regularizer)\n",
    "\n",
    "lout = fully_connected(l1, num_classes, activation_fn=None)\n",
    "\n",
    "prediction = tf.nn.softmax(lout,name=\"op_to_restore\")\n",
    "\n"
   ]
  },
  {
   "cell_type": "code",
   "execution_count": 6,
   "metadata": {
    "collapsed": true
   },
   "outputs": [],
   "source": [
    "### Implement training ops\n",
    "\n",
    "LEARNING_RATE = 0.1;\n",
    "\n",
    "# 1) Define cross entropy loss\n",
    "cross_entropy = -tf.reduce_sum(y_pl * tf.log(prediction), reduction_indices=[1])\n",
    "cross_entropy = tf.reduce_mean(cross_entropy)\n",
    "\n",
    "# 2) Define the training op\n",
    "#train_op = tf.train.AdamOptimizer(LEARNING_RATE).minimize(cross_entropy)\n",
    "train_op = tf.train.GradientDescentOptimizer(LEARNING_RATE).minimize(cross_entropy)\n",
    "\n",
    "# 3) Define accuracy op\n",
    "correct_prediction = tf.equal(tf.argmax(prediction, axis=1), tf.argmax(y_pl, axis=1))\n",
    "accuracy = tf.reduce_mean(tf.cast(correct_prediction, tf.float32))\n"
   ]
  },
  {
   "cell_type": "markdown",
   "metadata": {},
   "source": [
    "### The training of the network is done in a while loop that is controlled by a maximum number of epochs that we want to train for. The summerize of the training is printed after each epoch."
   ]
  },
  {
   "cell_type": "code",
   "execution_count": 7,
   "metadata": {},
   "outputs": [
    {
     "name": "stdout",
     "output_type": "stream",
     "text": [
      "Epoch 1, Train Cost: 0.421\tVal Cost: 0.599\t Val acc: 0.740\n",
      "Epoch 2, Train Cost: 0.294\tVal Cost: 0.634\t Val acc: 0.709\n",
      "Epoch 3, Train Cost: 0.242\tVal Cost: 0.523\t Val acc: 0.780\n",
      "Epoch 4, Train Cost: 0.312\tVal Cost: 0.507\t Val acc: 0.795\n",
      "Epoch 5, Train Cost: 0.290\tVal Cost: 0.425\t Val acc: 0.835\n",
      "Epoch 6, Train Cost: 0.397\tVal Cost: 0.483\t Val acc: 0.819\n",
      "Epoch 7, Train Cost: 0.294\tVal Cost: 0.568\t Val acc: 0.819\n",
      "Epoch 8, Train Cost: 0.294\tVal Cost: 0.635\t Val acc: 0.756\n",
      "Epoch 9, Train Cost: 0.351\tVal Cost: 0.496\t Val acc: 0.827\n",
      "Epoch 10, Train Cost: 0.288\tVal Cost: 0.654\t Val acc: 0.740\n",
      "Epoch 11, Train Cost: 0.371\tVal Cost: 0.497\t Val acc: 0.795\n",
      "Epoch 12, Train Cost: 0.283\tVal Cost: 0.498\t Val acc: 0.811\n",
      "Epoch 13, Train Cost: 0.242\tVal Cost: 0.626\t Val acc: 0.748\n",
      "Epoch 14, Train Cost: 0.255\tVal Cost: 0.452\t Val acc: 0.874\n",
      "Epoch 15, Train Cost: 0.240\tVal Cost: 0.711\t Val acc: 0.772\n",
      "Epoch 16, Train Cost: 0.296\tVal Cost: 0.455\t Val acc: 0.803\n",
      "Epoch 17, Train Cost: 0.182\tVal Cost: 0.530\t Val acc: 0.819\n",
      "Epoch 18, Train Cost: 0.242\tVal Cost: 0.407\t Val acc: 0.835\n",
      "Epoch 19, Train Cost: 0.223\tVal Cost: 0.608\t Val acc: 0.787\n",
      "Epoch 20, Train Cost: 0.181\tVal Cost: 0.497\t Val acc: 0.835\n",
      "Epoch 21, Train Cost: 0.288\tVal Cost: 0.497\t Val acc: 0.787\n",
      "Epoch 22, Train Cost: 0.151\tVal Cost: 0.473\t Val acc: 0.827\n",
      "Epoch 23, Train Cost: 0.233\tVal Cost: 0.637\t Val acc: 0.724\n",
      "Epoch 24, Train Cost: 0.196\tVal Cost: 0.792\t Val acc: 0.685\n",
      "Epoch 25, Train Cost: 0.235\tVal Cost: 0.705\t Val acc: 0.701\n",
      "Epoch 26, Train Cost: 0.167\tVal Cost: 0.591\t Val acc: 0.787\n",
      "Epoch 27, Train Cost: 0.305\tVal Cost: 0.546\t Val acc: 0.850\n",
      "Epoch 28, Train Cost: 0.260\tVal Cost: 0.629\t Val acc: 0.772\n",
      "Epoch 29, Train Cost: 0.159\tVal Cost: 0.709\t Val acc: 0.748\n",
      "Epoch 30, Train Cost: 0.223\tVal Cost: 0.471\t Val acc: 0.811\n",
      "Epoch 31, Train Cost: 0.229\tVal Cost: 0.765\t Val acc: 0.732\n",
      "Epoch 32, Train Cost: 0.161\tVal Cost: 0.536\t Val acc: 0.811\n",
      "Epoch 33, Train Cost: 0.254\tVal Cost: 0.578\t Val acc: 0.811\n",
      "Epoch 34, Train Cost: 0.178\tVal Cost: 0.511\t Val acc: 0.795\n",
      "Epoch 35, Train Cost: 0.131\tVal Cost: 0.588\t Val acc: 0.772\n",
      "Epoch 36, Train Cost: 0.222\tVal Cost: 0.571\t Val acc: 0.811\n",
      "Epoch 37, Train Cost: 0.158\tVal Cost: 0.515\t Val acc: 0.835\n",
      "Epoch 38, Train Cost: 0.177\tVal Cost: 0.596\t Val acc: 0.811\n",
      "Epoch 39, Train Cost: 0.160\tVal Cost: 0.815\t Val acc: 0.748\n",
      "Epoch 40, Train Cost: 0.165\tVal Cost: 0.751\t Val acc: 0.787\n",
      "Epoch 41, Train Cost: 0.118\tVal Cost: 0.575\t Val acc: 0.819\n",
      "Epoch 42, Train Cost: 0.176\tVal Cost: 0.554\t Val acc: 0.795\n",
      "Epoch 43, Train Cost: 0.269\tVal Cost: 0.668\t Val acc: 0.764\n",
      "Epoch 44, Train Cost: 0.219\tVal Cost: 0.888\t Val acc: 0.724\n",
      "Epoch 45, Train Cost: 0.250\tVal Cost: 0.502\t Val acc: 0.811\n",
      "Epoch 46, Train Cost: 0.147\tVal Cost: 0.652\t Val acc: 0.780\n",
      "Epoch 47, Train Cost: 0.190\tVal Cost: 0.613\t Val acc: 0.780\n",
      "Epoch 48, Train Cost: 0.116\tVal Cost: 0.454\t Val acc: 0.843\n",
      "Epoch 49, Train Cost: 0.140\tVal Cost: 0.712\t Val acc: 0.787\n",
      "Epoch 50, Train Cost: 0.140\tVal Cost: 0.730\t Val acc: 0.764\n",
      "Epoch 51, Train Cost: 0.162\tVal Cost: 0.541\t Val acc: 0.772\n",
      "Epoch 52, Train Cost: 0.144\tVal Cost: 0.912\t Val acc: 0.756\n",
      "Epoch 53, Train Cost: 0.112\tVal Cost: 0.470\t Val acc: 0.819\n",
      "Epoch 54, Train Cost: 0.116\tVal Cost: 0.395\t Val acc: 0.906\n",
      "Epoch 55, Train Cost: 0.121\tVal Cost: 0.918\t Val acc: 0.685\n",
      "Epoch 56, Train Cost: 0.135\tVal Cost: 0.688\t Val acc: 0.764\n",
      "Epoch 57, Train Cost: 0.100\tVal Cost: 0.562\t Val acc: 0.787\n",
      "Epoch 58, Train Cost: 0.136\tVal Cost: 0.561\t Val acc: 0.780\n",
      "Epoch 59, Train Cost: 0.169\tVal Cost: 0.514\t Val acc: 0.803\n",
      "Epoch 60, Train Cost: 0.184\tVal Cost: 0.744\t Val acc: 0.803\n",
      "Epoch 61, Train Cost: 0.227\tVal Cost: 0.739\t Val acc: 0.795\n",
      "Epoch 62, Train Cost: 0.109\tVal Cost: 0.789\t Val acc: 0.772\n",
      "Epoch 63, Train Cost: 0.151\tVal Cost: 0.930\t Val acc: 0.724\n",
      "Epoch 64, Train Cost: 0.130\tVal Cost: 0.757\t Val acc: 0.780\n",
      "Epoch 65, Train Cost: 0.136\tVal Cost: 0.547\t Val acc: 0.787\n",
      "Epoch 66, Train Cost: 0.157\tVal Cost: 0.425\t Val acc: 0.866\n",
      "Epoch 67, Train Cost: 0.173\tVal Cost: 0.757\t Val acc: 0.756\n",
      "Epoch 68, Train Cost: 0.154\tVal Cost: 0.676\t Val acc: 0.795\n",
      "Epoch 69, Train Cost: 0.126\tVal Cost: 0.642\t Val acc: 0.772\n",
      "Epoch 70, Train Cost: 0.126\tVal Cost: 0.758\t Val acc: 0.795\n",
      "Epoch 71, Train Cost: 0.114\tVal Cost: 0.562\t Val acc: 0.764\n",
      "Epoch 72, Train Cost: 0.126\tVal Cost: 0.658\t Val acc: 0.787\n",
      "Epoch 73, Train Cost: 0.208\tVal Cost: 0.630\t Val acc: 0.803\n",
      "Epoch 74, Train Cost: 0.207\tVal Cost: 0.390\t Val acc: 0.866\n",
      "Epoch 75, Train Cost: 0.098\tVal Cost: 0.713\t Val acc: 0.803\n",
      "Epoch 76, Train Cost: 0.160\tVal Cost: 0.450\t Val acc: 0.827\n",
      "Epoch 77, Train Cost: 0.230\tVal Cost: 0.784\t Val acc: 0.772\n",
      "Epoch 78, Train Cost: 0.119\tVal Cost: 0.564\t Val acc: 0.803\n",
      "Epoch 79, Train Cost: 0.143\tVal Cost: 0.792\t Val acc: 0.764\n",
      "Epoch 80, Train Cost: 0.124\tVal Cost: 0.738\t Val acc: 0.772\n",
      "Epoch 81, Train Cost: 0.173\tVal Cost: 0.750\t Val acc: 0.764\n",
      "Epoch 82, Train Cost: 0.220\tVal Cost: 0.681\t Val acc: 0.811\n",
      "Epoch 83, Train Cost: 0.174\tVal Cost: 0.429\t Val acc: 0.858\n",
      "Epoch 84, Train Cost: 0.197\tVal Cost: 0.686\t Val acc: 0.780\n",
      "Epoch 85, Train Cost: 0.114\tVal Cost: 0.784\t Val acc: 0.795\n",
      "Epoch 86, Train Cost: 0.084\tVal Cost: 0.530\t Val acc: 0.819\n",
      "Epoch 87, Train Cost: 0.126\tVal Cost: 0.541\t Val acc: 0.827\n",
      "Epoch 88, Train Cost: 0.151\tVal Cost: 0.521\t Val acc: 0.811\n",
      "Epoch 89, Train Cost: 0.150\tVal Cost: 0.582\t Val acc: 0.827\n",
      "Epoch 90, Train Cost: 0.135\tVal Cost: 0.705\t Val acc: 0.764\n",
      "Epoch 91, Train Cost: 0.146\tVal Cost: 0.686\t Val acc: 0.811\n",
      "Epoch 92, Train Cost: 0.132\tVal Cost: 0.553\t Val acc: 0.835\n",
      "Epoch 93, Train Cost: 0.138\tVal Cost: 0.612\t Val acc: 0.795\n",
      "Epoch 94, Train Cost: 0.062\tVal Cost: 0.586\t Val acc: 0.811\n",
      "Epoch 95, Train Cost: 0.169\tVal Cost: 0.670\t Val acc: 0.787\n",
      "Epoch 96, Train Cost: 0.134\tVal Cost: 0.651\t Val acc: 0.827\n",
      "Epoch 97, Train Cost: 0.094\tVal Cost: 0.518\t Val acc: 0.850\n",
      "Epoch 98, Train Cost: 0.055\tVal Cost: 0.736\t Val acc: 0.787\n",
      "Epoch 99, Train Cost: 0.133\tVal Cost: 0.625\t Val acc: 0.740\n",
      "Epoch 100, Train Cost: 0.160\tVal Cost: 0.654\t Val acc: 0.803\n",
      "Done\n"
     ]
    }
   ],
   "source": [
    "max_epochs = 100\n",
    "batch_size = 128\n",
    "\n",
    "epochs_completed_train = 0\n",
    "epochs_completed_val = 0\n",
    "\n",
    "idx_epochs_train = 0\n",
    "idx_epochs_val = 0\n",
    "\n",
    "old_epochs_completed = 0\n",
    "# restricting memory usage, TensorFlow is greedy and will use all memory otherwise\n",
    "gpu_opts = tf.GPUOptions(per_process_gpu_memory_fraction=0.2)\n",
    "\n",
    "train_cost, val_cost, train_acc, val_acc = [],[],[],[]\n",
    "with tf.Session(config=tf.ConfigProto(gpu_options=gpu_opts)) as sess:\n",
    "    sess.run(tf.global_variables_initializer())\n",
    "    try:\n",
    "\n",
    "        while epochs_completed_train < max_epochs:\n",
    "            train_cost, train_acc = [],[]\n",
    "            (x_tr,y_tr,epochs_completed_train, idx_epochs_train, embedding_train,embedding_labels_train) = utils.next_batch(batch_size,idx_epochs_train,epochs_completed_train,embedding_train,embedding_labels_train)\n",
    "            (x_val,y_val,epochs_completed_val, idx_epochs_val, embedding_val,embedding_labels_val) = utils.next_batch(batch_size,idx_epochs_val,epochs_completed_val,embedding_val,embedding_labels_val)\n",
    "            \n",
    "                # Traning optimizer\n",
    "            feed_dict_train = {x_pl: x_tr, y_pl: y_tr}\n",
    "\n",
    "                # running the train_op\n",
    "            res = sess.run( [train_op, cross_entropy, accuracy], feed_dict=feed_dict_train)\n",
    "\n",
    "            train_cost += [res[1]]\n",
    "            train_acc += [res[2]]\n",
    "\n",
    "                # Validation:\n",
    "            feed_dict_valid = {x_pl: x_val, y_pl: y_val}\n",
    "\n",
    "            res = sess.run([cross_entropy, accuracy], feed_dict=feed_dict_valid)\n",
    "            val_cost += [res[0]]\n",
    "            val_acc += [res[1]]\n",
    "            \n",
    "            if old_epochs_completed != epochs_completed_train:\n",
    "                print(\"Epoch %i, Train Cost: %0.3f\\tVal Cost: %0.3f\\t Val acc: %0.3f\" \\\n",
    "                      %(epochs_completed_train, train_cost[-1],val_cost[-1],val_acc[-1]))\n",
    "                \n",
    "            old_epochs_completed = epochs_completed_train\n",
    "            \n",
    "            \n",
    "            # Save the output of the network to a local place\n",
    "        saver = tf.train.Saver()\n",
    "        saver.save(sess, \"C:/tmp/audio_classifier\")\n",
    "\n",
    "    except KeyboardInterrupt:\n",
    "        print('KeyboardInterrupt')\n",
    "\n",
    "print('Done')\n"
   ]
  },
  {
   "cell_type": "markdown",
   "metadata": {},
   "source": [
    "\n",
    "## Test Classification accuracy\n",
    "\n",
    "#### Only test classification accuracy for the 3 class problem. The test for the 15 class problem is preformed the same way, just tuned to 15 classes. The code can be found in the repository under \"restoreTest15Classes.py\""
   ]
  },
  {
   "cell_type": "code",
   "execution_count": 8,
   "metadata": {},
   "outputs": [
    {
     "name": "stdout",
     "output_type": "stream",
     "text": [
      "(4840, 128)\n",
      "4840\n",
      "tfRecord test uploaded!\n",
      "INFO:tensorflow:Restoring parameters from C:/tmp/audio_classifier\n",
      "Test accuracy:  0.78099173553719\n",
      "[[ 67.55  19.02  13.43]\n",
      " [  8.45  82.52   9.03]\n",
      " [  7.95  13.46  78.59]]\n",
      "[1004 2269 1567]\n",
      "2269\n",
      "Normalized confusion matrix\n",
      "[[ 0.68  0.19  0.13]\n",
      " [ 0.08  0.83  0.09]\n",
      " [ 0.08  0.13  0.79]]\n"
     ]
    },
    {
     "data": {
      "image/png": "[encoded data removed]",
      "text/plain": [
       "<matplotlib.figure.Figure at 0x27c1e1432e8>"
      ]
     },
     "metadata": {},
     "output_type": "display_data"
    }
   ],
   "source": [
    "from sklearn.metrics import confusion_matrix\n",
    "\n",
    "(embedding_test,embedding_labels_test) =  utils.tfRead('test')\n",
    "print(\"tfRecord test uploaded!\")\n",
    "\n",
    "embedding_labels_test = utils.labelMinimizer(embedding_labels_test)\n",
    "embedding_list = embedding_test\n",
    "\n",
    "gpu_opts = tf.GPUOptions(per_process_gpu_memory_fraction=0.2)\n",
    " # load the trained network from a local drive\n",
    "with tf.Session(config=tf.ConfigProto(gpu_options=gpu_opts)) as sess:\n",
    "#First let's load meta graph and restore weights\n",
    "    saver = tf.train.import_meta_graph(\"C:/tmp/audio_classifier.meta\")\n",
    "    saver.restore(sess,tf.train.latest_checkpoint('C:/tmp/'))\n",
    "# Now, let's access and create placeholders variables and\n",
    "# create feed-dict to feed new data\n",
    "\n",
    "    graph = tf.get_default_graph()\n",
    "    x_pl = graph.get_tensor_by_name(\"xPlaceholder:0\")\n",
    "    feed_dict = {x_pl: embedding_list}\n",
    "\n",
    "        #Now, access the op that you want to run.\n",
    "    op_to_restore = graph.get_tensor_by_name(\"op_to_restore:0\")\n",
    "\n",
    "    y_pred = sess.run(op_to_restore, feed_dict)\n",
    "\n",
    "    pred = sess.run(tf.argmax(y_pred, axis=1))\n",
    "    #print(\"class predicion embedding 1:\", pred)\n",
    "    #print(\"real label: \",embedding_labels_test[0:100])\n",
    "\n",
    "correct_pred = 0;\n",
    "for i in range(0,len(pred)):\n",
    "    if pred[i] == embedding_labels_test[i]:\n",
    "        correct_pred+=1\n",
    "\n",
    "acc = correct_pred/len(pred)\n",
    "print(\"Test accuracy: \", acc)\n",
    "\n",
    "\n",
    "\n",
    "conf_mat = confusion_matrix(embedding_labels_test,pred)\n",
    "np.set_printoptions(precision=2)\n",
    "conf_norm = conf_mat.astype('float')/conf_mat.sum(axis=1)[:,np.newaxis]\n",
    "print(conf_norm*100)\n",
    "print(sum(conf_mat))\n",
    "print(sum(conf_mat)[1])\n",
    "\n",
    "# 0 outdoor, 1 indoor, 2 vehicle\n",
    "className = [\"Outdoor\",\"Indoor\",\"Vehicle\"]\n",
    "# Plot normalized confusion matrix\n",
    "plt.figure()\n",
    "utils.plot_confusion_matrix(conf_mat, classes=className, normalize=True,\n",
    "                      title='Normalized confusion matrix')\n",
    "\n",
    "plt.savefig('myfig')\n",
    "plt.show()"
   ]
  },
  {
   "cell_type": "markdown",
   "metadata": {},
   "source": [
    "### Majority vote test: "
   ]
  },
  {
   "cell_type": "code",
   "execution_count": 9,
   "metadata": {},
   "outputs": [
    {
     "name": "stdout",
     "output_type": "stream",
     "text": [
      "Test accuracy (major):  0.8553719008264463\n"
     ]
    }
   ],
   "source": [
    "\n",
    "\n",
    "from collections import Counter\n",
    "\n",
    "correct_pred = 0;\n",
    "idx = 0;\n",
    "for n in range(1,round(len(pred)/10)):\n",
    "    majorLabel= embedding_labels_test[idx:idx+9]\n",
    "    majorPred = pred[idx:idx+9]\n",
    "    cntLabel = Counter(majorLabel)\n",
    "    cntPred = Counter(majorPred)\n",
    "\n",
    "    idx = idx+10\n",
    "    cLabel = cntLabel.most_common(1)[0]\n",
    "    cPred = cntPred.most_common(1)[0]\n",
    "    #print(cnt.most_common(1)[0])\n",
    "    #print(cLabel[0])\n",
    "    #print(cPred[0])\n",
    "    if cLabel[0] == cPred[0]:\n",
    "        correct_pred+=1\n",
    "\n",
    "acc = correct_pred/round(len(pred)/10)\n",
    "print(\"Test accuracy (major): \", acc)\n",
    "\n"
   ]
  }
 ],
 "metadata": {
  "kernelspec": {
   "display_name": "Python 3",
   "language": "python",
   "name": "python3"
  },
  "language_info": {
   "codemirror_mode": {
    "name": "ipython",
    "version": 3
   },
   "file_extension": ".py",
   "mimetype": "text/x-python",
   "name": "python",
   "nbconvert_exporter": "python",
   "pygments_lexer": "ipython3",
   "version": "3.5.4"
  }
 },
 "nbformat": 4,
 "nbformat_minor": 2
}
